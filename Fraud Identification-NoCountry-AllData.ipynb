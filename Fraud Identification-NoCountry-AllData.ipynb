{
 "cells": [
  {
   "cell_type": "markdown",
   "metadata": {},
   "source": [
    "Identifying Fraudulent Activities\n",
    "==================\n",
    "Goal\n",
    "----\n",
    "The goal is to build a machine learning model that predicts the probability that the first transaction of a new user is fraudulent (Fraud_Data.csv). You only have the user first transaction on the site and you have to make your classification (\"fraud/no fraud\"). \n",
    "Tasks\n",
    "-----\n",
    "1. For each user, determine the country based on the numeric IP address. (IpAddress_to_Country.csv)\n",
    "\n",
    "2. Build a model to predict whether an activity is fraudulent or not. Explain how different assumptions about the cost of false positives vs false negatives would impact the model. \n",
    "\n",
    "3. Explain how the model is making predictions from a user perspective. What kinds of users are more likely to be classified as at risk?  \n",
    "\n",
    "4. How would you use the model which can predict fraudulent activities in real time?  "
   ]
  },
  {
   "cell_type": "code",
   "execution_count": 1,
   "metadata": {
    "collapsed": false
   },
   "outputs": [],
   "source": [
    "import pandas as pd\n",
    "import pandasql\n",
    "import numpy as np\n",
    "\n",
    "df_fraud=pd.read_csv('Fraud_Data.csv',low_memory=False)"
   ]
  },
  {
   "cell_type": "code",
   "execution_count": 2,
   "metadata": {
    "collapsed": false
   },
   "outputs": [
    {
     "name": "stdout",
     "output_type": "stream",
     "text": [
      "Number of total users:\t151112\n"
     ]
    }
   ],
   "source": [
    "print \"Number of total users:\\t\",len(df_fraud)"
   ]
  },
  {
   "cell_type": "markdown",
   "metadata": {},
   "source": [
    "There is no NaN in this dataset. \n",
    "Create new features\n",
    "-------------------------------\n",
    "\n",
    "**Time difference** between sign-up time and purchase time (shorter, more suspicious)\n",
    "\n",
    "If many different user_id using the same device_id, more suspicious\n",
    "\n",
    "If many different user_id using the same ip_address, more suspicious\n"
   ]
  },
  {
   "cell_type": "code",
   "execution_count": 3,
   "metadata": {
    "collapsed": false
   },
   "outputs": [
    {
     "name": "stdout",
     "output_type": "stream",
     "text": [
      "Fraction of fraud (class=1): \t0.088\n"
     ]
    },
    {
     "data": {
      "text/html": [
       "<div>\n",
       "<table border=\"1\" class=\"dataframe\">\n",
       "  <thead>\n",
       "    <tr style=\"text-align: right;\">\n",
       "      <th></th>\n",
       "      <th>class</th>\n",
       "      <th>count(class)</th>\n",
       "    </tr>\n",
       "  </thead>\n",
       "  <tbody>\n",
       "    <tr>\n",
       "      <th>0</th>\n",
       "      <td>0</td>\n",
       "      <td>136961</td>\n",
       "    </tr>\n",
       "    <tr>\n",
       "      <th>1</th>\n",
       "      <td>1</td>\n",
       "      <td>14151</td>\n",
       "    </tr>\n",
       "  </tbody>\n",
       "</table>\n",
       "</div>"
      ],
      "text/plain": [
       "   class  count(class)\n",
       "0      0        136961\n",
       "1      1         14151"
      ]
     },
     "execution_count": 3,
     "metadata": {},
     "output_type": "execute_result"
    }
   ],
   "source": [
    "#check number of fraud (class=1) \n",
    "q=\"\"\"\n",
    "SELECT class,count(class)\n",
    "FROM df_fraud\n",
    "GROUP BY class;\n",
    "\"\"\"\n",
    "sol4=pandasql.sqldf(q.lower(),locals())\n",
    "print \"Fraction of fraud (class=1): \\t\",(352./(352.+3648.))\n",
    "sol4.head()"
   ]
  },
  {
   "cell_type": "code",
   "execution_count": 4,
   "metadata": {
    "collapsed": false
   },
   "outputs": [
    {
     "data": {
      "text/html": [
       "<div>\n",
       "<table border=\"1\" class=\"dataframe\">\n",
       "  <thead>\n",
       "    <tr style=\"text-align: right;\">\n",
       "      <th></th>\n",
       "      <th>user_id</th>\n",
       "      <th>signup_time</th>\n",
       "      <th>purchase_time</th>\n",
       "      <th>purchase_value</th>\n",
       "      <th>device_id</th>\n",
       "      <th>source</th>\n",
       "      <th>browser</th>\n",
       "      <th>sex</th>\n",
       "      <th>age</th>\n",
       "      <th>ip_address</th>\n",
       "      <th>class</th>\n",
       "      <th>time_difference</th>\n",
       "      <th>time_float</th>\n",
       "    </tr>\n",
       "  </thead>\n",
       "  <tbody>\n",
       "    <tr>\n",
       "      <th>0</th>\n",
       "      <td>22058</td>\n",
       "      <td>2015-02-24 22:55:49</td>\n",
       "      <td>2015-04-18 02:47:11</td>\n",
       "      <td>34</td>\n",
       "      <td>QVPSPJUOCKZAR</td>\n",
       "      <td>SEO</td>\n",
       "      <td>Chrome</td>\n",
       "      <td>M</td>\n",
       "      <td>39</td>\n",
       "      <td>7.327584e+08</td>\n",
       "      <td>0</td>\n",
       "      <td>52 days 03:51:22</td>\n",
       "      <td>4506682.0</td>\n",
       "    </tr>\n",
       "    <tr>\n",
       "      <th>1</th>\n",
       "      <td>333320</td>\n",
       "      <td>2015-06-07 20:39:50</td>\n",
       "      <td>2015-06-08 01:38:54</td>\n",
       "      <td>16</td>\n",
       "      <td>EOGFQPIZPYXFZ</td>\n",
       "      <td>Ads</td>\n",
       "      <td>Chrome</td>\n",
       "      <td>F</td>\n",
       "      <td>53</td>\n",
       "      <td>3.503114e+08</td>\n",
       "      <td>0</td>\n",
       "      <td>0 days 04:59:04</td>\n",
       "      <td>17944.0</td>\n",
       "    </tr>\n",
       "    <tr>\n",
       "      <th>2</th>\n",
       "      <td>1359</td>\n",
       "      <td>2015-01-01 18:52:44</td>\n",
       "      <td>2015-01-01 18:52:45</td>\n",
       "      <td>15</td>\n",
       "      <td>YSSKYOSJHPPLJ</td>\n",
       "      <td>SEO</td>\n",
       "      <td>Opera</td>\n",
       "      <td>M</td>\n",
       "      <td>53</td>\n",
       "      <td>2.621474e+09</td>\n",
       "      <td>1</td>\n",
       "      <td>0 days 00:00:01</td>\n",
       "      <td>1.0</td>\n",
       "    </tr>\n",
       "    <tr>\n",
       "      <th>3</th>\n",
       "      <td>150084</td>\n",
       "      <td>2015-04-28 21:13:25</td>\n",
       "      <td>2015-05-04 13:54:50</td>\n",
       "      <td>44</td>\n",
       "      <td>ATGTXKYKUDUQN</td>\n",
       "      <td>SEO</td>\n",
       "      <td>Safari</td>\n",
       "      <td>M</td>\n",
       "      <td>41</td>\n",
       "      <td>3.840542e+09</td>\n",
       "      <td>0</td>\n",
       "      <td>5 days 16:41:25</td>\n",
       "      <td>492085.0</td>\n",
       "    </tr>\n",
       "    <tr>\n",
       "      <th>4</th>\n",
       "      <td>221365</td>\n",
       "      <td>2015-07-21 07:09:52</td>\n",
       "      <td>2015-09-09 18:40:53</td>\n",
       "      <td>39</td>\n",
       "      <td>NAUITBZFJKHWW</td>\n",
       "      <td>Ads</td>\n",
       "      <td>Safari</td>\n",
       "      <td>M</td>\n",
       "      <td>45</td>\n",
       "      <td>4.155831e+08</td>\n",
       "      <td>0</td>\n",
       "      <td>50 days 11:31:01</td>\n",
       "      <td>4361461.0</td>\n",
       "    </tr>\n",
       "  </tbody>\n",
       "</table>\n",
       "</div>"
      ],
      "text/plain": [
       "   user_id         signup_time       purchase_time  purchase_value  \\\n",
       "0    22058 2015-02-24 22:55:49 2015-04-18 02:47:11              34   \n",
       "1   333320 2015-06-07 20:39:50 2015-06-08 01:38:54              16   \n",
       "2     1359 2015-01-01 18:52:44 2015-01-01 18:52:45              15   \n",
       "3   150084 2015-04-28 21:13:25 2015-05-04 13:54:50              44   \n",
       "4   221365 2015-07-21 07:09:52 2015-09-09 18:40:53              39   \n",
       "\n",
       "       device_id source browser sex  age    ip_address  class  \\\n",
       "0  QVPSPJUOCKZAR    SEO  Chrome   M   39  7.327584e+08      0   \n",
       "1  EOGFQPIZPYXFZ    Ads  Chrome   F   53  3.503114e+08      0   \n",
       "2  YSSKYOSJHPPLJ    SEO   Opera   M   53  2.621474e+09      1   \n",
       "3  ATGTXKYKUDUQN    SEO  Safari   M   41  3.840542e+09      0   \n",
       "4  NAUITBZFJKHWW    Ads  Safari   M   45  4.155831e+08      0   \n",
       "\n",
       "   time_difference  time_float  \n",
       "0 52 days 03:51:22   4506682.0  \n",
       "1  0 days 04:59:04     17944.0  \n",
       "2  0 days 00:00:01         1.0  \n",
       "3  5 days 16:41:25    492085.0  \n",
       "4 50 days 11:31:01   4361461.0  "
      ]
     },
     "execution_count": 4,
     "metadata": {},
     "output_type": "execute_result"
    }
   ],
   "source": [
    "#convert a string into a timestamp\n",
    "df_fraud['signup_time']=df_fraud['signup_time'].astype('datetime64[ns]')\n",
    "df_fraud['purchase_time']=df_fraud['purchase_time'].astype('datetime64[ns]')\n",
    "#add a new feature 'time_difference'\n",
    "df_fraud['time_difference']=df_fraud['purchase_time'] - df_fraud['signup_time']\n",
    "\n",
    "#add a new feature 'time_float'\n",
    "time_float=[]\n",
    "for t in list(df_fraud['time_difference']):\n",
    "    tf=t.total_seconds()\n",
    "    time_float.append(tf)\n",
    "    \n",
    "td=pd.DataFrame({'time_float':pd.Series(time_float)})\n",
    "df_fraud['time_float']=td['time_float']\n",
    "\n",
    "df_fraud.head()"
   ]
  },
  {
   "cell_type": "code",
   "execution_count": 5,
   "metadata": {
    "collapsed": false
   },
   "outputs": [
    {
     "name": "stdout",
     "output_type": "stream",
     "text": [
      "Maximum number of users sharing the same device_id:\t20\n",
      "Number of unique device_id:\t137956\n"
     ]
    },
    {
     "name": "stderr",
     "output_type": "stream",
     "text": [
      "/Users/anw4/anaconda/lib/python2.7/site-packages/pandasql/sqldf.py:58: UserWarning: the 'timedelta' type is not supported, and will be written as integer values (ns frequency) to the database.\n",
      "  write_table(env[table_name], table_name, conn)\n"
     ]
    }
   ],
   "source": [
    "#check for number of different user_id sharing same device_id \n",
    "q=\"\"\"\n",
    "SELECT device_id,COUNT(user_id)\n",
    "FROM df_fraud\n",
    "GROUP BY device_id;\n",
    "\"\"\"\n",
    "\n",
    "sol3=pandasql.sqldf(q.lower(),locals())\n",
    "print \"Maximum number of users sharing the same device_id:\\t\",sol3['count(user_id)'].max()\n",
    "print \"Number of unique device_id:\\t\",len(sol3)"
   ]
  },
  {
   "cell_type": "code",
   "execution_count": 6,
   "metadata": {
    "collapsed": false
   },
   "outputs": [
    {
     "name": "stdout",
     "output_type": "stream",
     "text": [
      "Maximum number of users sharing the same ip_address:\t20\n",
      "Number of unique ip_address:\t143512\n"
     ]
    }
   ],
   "source": [
    "#check for number of different user_id sharing same ip_address\n",
    "q=\"\"\"\n",
    "SELECT ip_address,COUNT(user_id)\n",
    "FROM df_fraud\n",
    "GROUP BY ip_address;\n",
    "\"\"\"\n",
    "\n",
    "sol5=pandasql.sqldf(q.lower(),locals())\n",
    "print \"Maximum number of users sharing the same ip_address:\\t\",sol5['count(user_id)'].max()\n",
    "print \"Number of unique ip_address:\\t\",len(sol5)"
   ]
  },
  {
   "cell_type": "markdown",
   "metadata": {},
   "source": [
    "Maximum number of user_ids sharing the same ip_address or device_ids are 20, which is very suspicious number so I assume that number of user_ids sharing the same ip_address or device_ids will be important features. "
   ]
  },
  {
   "cell_type": "code",
   "execution_count": 7,
   "metadata": {
    "collapsed": false
   },
   "outputs": [
    {
     "data": {
      "text/html": [
       "<div>\n",
       "<table border=\"1\" class=\"dataframe\">\n",
       "  <thead>\n",
       "    <tr style=\"text-align: right;\">\n",
       "      <th></th>\n",
       "      <th>user_id</th>\n",
       "      <th>signup_time</th>\n",
       "      <th>purchase_time</th>\n",
       "      <th>purchase_value</th>\n",
       "      <th>device_id</th>\n",
       "      <th>source</th>\n",
       "      <th>browser</th>\n",
       "      <th>sex</th>\n",
       "      <th>age</th>\n",
       "      <th>ip_address</th>\n",
       "      <th>class</th>\n",
       "      <th>time_difference</th>\n",
       "      <th>time_float</th>\n",
       "      <th>device_id</th>\n",
       "      <th>share_device</th>\n",
       "    </tr>\n",
       "  </thead>\n",
       "  <tbody>\n",
       "    <tr>\n",
       "      <th>0</th>\n",
       "      <td>22058</td>\n",
       "      <td>2015-02-24 22:55:49.000000</td>\n",
       "      <td>2015-04-18 02:47:11.000000</td>\n",
       "      <td>34</td>\n",
       "      <td>QVPSPJUOCKZAR</td>\n",
       "      <td>SEO</td>\n",
       "      <td>Chrome</td>\n",
       "      <td>M</td>\n",
       "      <td>39</td>\n",
       "      <td>7.327584e+08</td>\n",
       "      <td>0</td>\n",
       "      <td>4506682000000000</td>\n",
       "      <td>4506682.0</td>\n",
       "      <td>QVPSPJUOCKZAR</td>\n",
       "      <td>1</td>\n",
       "    </tr>\n",
       "    <tr>\n",
       "      <th>1</th>\n",
       "      <td>333320</td>\n",
       "      <td>2015-06-07 20:39:50.000000</td>\n",
       "      <td>2015-06-08 01:38:54.000000</td>\n",
       "      <td>16</td>\n",
       "      <td>EOGFQPIZPYXFZ</td>\n",
       "      <td>Ads</td>\n",
       "      <td>Chrome</td>\n",
       "      <td>F</td>\n",
       "      <td>53</td>\n",
       "      <td>3.503114e+08</td>\n",
       "      <td>0</td>\n",
       "      <td>17944000000000</td>\n",
       "      <td>17944.0</td>\n",
       "      <td>EOGFQPIZPYXFZ</td>\n",
       "      <td>1</td>\n",
       "    </tr>\n",
       "    <tr>\n",
       "      <th>2</th>\n",
       "      <td>1359</td>\n",
       "      <td>2015-01-01 18:52:44.000000</td>\n",
       "      <td>2015-01-01 18:52:45.000000</td>\n",
       "      <td>15</td>\n",
       "      <td>YSSKYOSJHPPLJ</td>\n",
       "      <td>SEO</td>\n",
       "      <td>Opera</td>\n",
       "      <td>M</td>\n",
       "      <td>53</td>\n",
       "      <td>2.621474e+09</td>\n",
       "      <td>1</td>\n",
       "      <td>1000000000</td>\n",
       "      <td>1.0</td>\n",
       "      <td>YSSKYOSJHPPLJ</td>\n",
       "      <td>12</td>\n",
       "    </tr>\n",
       "    <tr>\n",
       "      <th>3</th>\n",
       "      <td>150084</td>\n",
       "      <td>2015-04-28 21:13:25.000000</td>\n",
       "      <td>2015-05-04 13:54:50.000000</td>\n",
       "      <td>44</td>\n",
       "      <td>ATGTXKYKUDUQN</td>\n",
       "      <td>SEO</td>\n",
       "      <td>Safari</td>\n",
       "      <td>M</td>\n",
       "      <td>41</td>\n",
       "      <td>3.840542e+09</td>\n",
       "      <td>0</td>\n",
       "      <td>492085000000000</td>\n",
       "      <td>492085.0</td>\n",
       "      <td>ATGTXKYKUDUQN</td>\n",
       "      <td>1</td>\n",
       "    </tr>\n",
       "    <tr>\n",
       "      <th>4</th>\n",
       "      <td>221365</td>\n",
       "      <td>2015-07-21 07:09:52.000000</td>\n",
       "      <td>2015-09-09 18:40:53.000000</td>\n",
       "      <td>39</td>\n",
       "      <td>NAUITBZFJKHWW</td>\n",
       "      <td>Ads</td>\n",
       "      <td>Safari</td>\n",
       "      <td>M</td>\n",
       "      <td>45</td>\n",
       "      <td>4.155831e+08</td>\n",
       "      <td>0</td>\n",
       "      <td>4361461000000000</td>\n",
       "      <td>4361461.0</td>\n",
       "      <td>NAUITBZFJKHWW</td>\n",
       "      <td>1</td>\n",
       "    </tr>\n",
       "  </tbody>\n",
       "</table>\n",
       "</div>"
      ],
      "text/plain": [
       "   user_id                 signup_time               purchase_time  \\\n",
       "0    22058  2015-02-24 22:55:49.000000  2015-04-18 02:47:11.000000   \n",
       "1   333320  2015-06-07 20:39:50.000000  2015-06-08 01:38:54.000000   \n",
       "2     1359  2015-01-01 18:52:44.000000  2015-01-01 18:52:45.000000   \n",
       "3   150084  2015-04-28 21:13:25.000000  2015-05-04 13:54:50.000000   \n",
       "4   221365  2015-07-21 07:09:52.000000  2015-09-09 18:40:53.000000   \n",
       "\n",
       "   purchase_value      device_id source browser sex  age    ip_address  class  \\\n",
       "0              34  QVPSPJUOCKZAR    SEO  Chrome   M   39  7.327584e+08      0   \n",
       "1              16  EOGFQPIZPYXFZ    Ads  Chrome   F   53  3.503114e+08      0   \n",
       "2              15  YSSKYOSJHPPLJ    SEO   Opera   M   53  2.621474e+09      1   \n",
       "3              44  ATGTXKYKUDUQN    SEO  Safari   M   41  3.840542e+09      0   \n",
       "4              39  NAUITBZFJKHWW    Ads  Safari   M   45  4.155831e+08      0   \n",
       "\n",
       "    time_difference  time_float      device_id  share_device  \n",
       "0  4506682000000000   4506682.0  QVPSPJUOCKZAR             1  \n",
       "1    17944000000000     17944.0  EOGFQPIZPYXFZ             1  \n",
       "2        1000000000         1.0  YSSKYOSJHPPLJ            12  \n",
       "3   492085000000000    492085.0  ATGTXKYKUDUQN             1  \n",
       "4  4361461000000000   4361461.0  NAUITBZFJKHWW             1  "
      ]
     },
     "execution_count": 7,
     "metadata": {},
     "output_type": "execute_result"
    }
   ],
   "source": [
    "import time\n",
    "share_device=sol3.sort_values('count(user_id)',ascending=0)\n",
    "share_device.rename(columns={'count(user_id)':'share_device'},inplace=True)\n",
    "q=\"\"\"\n",
    "SELECT *  \n",
    "FROM df_fraud\n",
    "JOIN share_device\n",
    "ON share_device.device_id=df_fraud.device_id\n",
    "\"\"\"\n",
    "t1=time.time()\n",
    "sol13=pandasql.sqldf(q.lower(),locals())\n",
    "t2=time.time()\n",
    "#print \"time:\\t\",(t2-t1)\n",
    "\n",
    "#sol13.describe()\n",
    "sol13.head()"
   ]
  },
  {
   "cell_type": "code",
   "execution_count": 8,
   "metadata": {
    "collapsed": false
   },
   "outputs": [
    {
     "data": {
      "text/html": [
       "<div>\n",
       "<table border=\"1\" class=\"dataframe\">\n",
       "  <thead>\n",
       "    <tr style=\"text-align: right;\">\n",
       "      <th></th>\n",
       "      <th>user_id</th>\n",
       "      <th>signup_time</th>\n",
       "      <th>purchase_time</th>\n",
       "      <th>purchase_value</th>\n",
       "      <th>device_id</th>\n",
       "      <th>source</th>\n",
       "      <th>browser</th>\n",
       "      <th>sex</th>\n",
       "      <th>age</th>\n",
       "      <th>ip_address</th>\n",
       "      <th>class</th>\n",
       "      <th>time_difference</th>\n",
       "      <th>time_float</th>\n",
       "      <th>share_device</th>\n",
       "      <th>ip_address2</th>\n",
       "      <th>share_ip</th>\n",
       "    </tr>\n",
       "  </thead>\n",
       "  <tbody>\n",
       "    <tr>\n",
       "      <th>0</th>\n",
       "      <td>22058</td>\n",
       "      <td>2015-02-24 22:55:49.000000</td>\n",
       "      <td>2015-04-18 02:47:11.000000</td>\n",
       "      <td>34</td>\n",
       "      <td>QVPSPJUOCKZAR</td>\n",
       "      <td>SEO</td>\n",
       "      <td>Chrome</td>\n",
       "      <td>M</td>\n",
       "      <td>39</td>\n",
       "      <td>7.327584e+08</td>\n",
       "      <td>0</td>\n",
       "      <td>4506682000000000</td>\n",
       "      <td>4506682.0</td>\n",
       "      <td>1</td>\n",
       "      <td>7.327584e+08</td>\n",
       "      <td>1</td>\n",
       "    </tr>\n",
       "    <tr>\n",
       "      <th>1</th>\n",
       "      <td>333320</td>\n",
       "      <td>2015-06-07 20:39:50.000000</td>\n",
       "      <td>2015-06-08 01:38:54.000000</td>\n",
       "      <td>16</td>\n",
       "      <td>EOGFQPIZPYXFZ</td>\n",
       "      <td>Ads</td>\n",
       "      <td>Chrome</td>\n",
       "      <td>F</td>\n",
       "      <td>53</td>\n",
       "      <td>3.503114e+08</td>\n",
       "      <td>0</td>\n",
       "      <td>17944000000000</td>\n",
       "      <td>17944.0</td>\n",
       "      <td>1</td>\n",
       "      <td>3.503114e+08</td>\n",
       "      <td>1</td>\n",
       "    </tr>\n",
       "    <tr>\n",
       "      <th>2</th>\n",
       "      <td>1359</td>\n",
       "      <td>2015-01-01 18:52:44.000000</td>\n",
       "      <td>2015-01-01 18:52:45.000000</td>\n",
       "      <td>15</td>\n",
       "      <td>YSSKYOSJHPPLJ</td>\n",
       "      <td>SEO</td>\n",
       "      <td>Opera</td>\n",
       "      <td>M</td>\n",
       "      <td>53</td>\n",
       "      <td>2.621474e+09</td>\n",
       "      <td>1</td>\n",
       "      <td>1000000000</td>\n",
       "      <td>1.0</td>\n",
       "      <td>12</td>\n",
       "      <td>2.621474e+09</td>\n",
       "      <td>12</td>\n",
       "    </tr>\n",
       "    <tr>\n",
       "      <th>3</th>\n",
       "      <td>150084</td>\n",
       "      <td>2015-04-28 21:13:25.000000</td>\n",
       "      <td>2015-05-04 13:54:50.000000</td>\n",
       "      <td>44</td>\n",
       "      <td>ATGTXKYKUDUQN</td>\n",
       "      <td>SEO</td>\n",
       "      <td>Safari</td>\n",
       "      <td>M</td>\n",
       "      <td>41</td>\n",
       "      <td>3.840542e+09</td>\n",
       "      <td>0</td>\n",
       "      <td>492085000000000</td>\n",
       "      <td>492085.0</td>\n",
       "      <td>1</td>\n",
       "      <td>3.840542e+09</td>\n",
       "      <td>1</td>\n",
       "    </tr>\n",
       "    <tr>\n",
       "      <th>4</th>\n",
       "      <td>221365</td>\n",
       "      <td>2015-07-21 07:09:52.000000</td>\n",
       "      <td>2015-09-09 18:40:53.000000</td>\n",
       "      <td>39</td>\n",
       "      <td>NAUITBZFJKHWW</td>\n",
       "      <td>Ads</td>\n",
       "      <td>Safari</td>\n",
       "      <td>M</td>\n",
       "      <td>45</td>\n",
       "      <td>4.155831e+08</td>\n",
       "      <td>0</td>\n",
       "      <td>4361461000000000</td>\n",
       "      <td>4361461.0</td>\n",
       "      <td>1</td>\n",
       "      <td>4.155831e+08</td>\n",
       "      <td>1</td>\n",
       "    </tr>\n",
       "  </tbody>\n",
       "</table>\n",
       "</div>"
      ],
      "text/plain": [
       "   user_id                 signup_time               purchase_time  \\\n",
       "0    22058  2015-02-24 22:55:49.000000  2015-04-18 02:47:11.000000   \n",
       "1   333320  2015-06-07 20:39:50.000000  2015-06-08 01:38:54.000000   \n",
       "2     1359  2015-01-01 18:52:44.000000  2015-01-01 18:52:45.000000   \n",
       "3   150084  2015-04-28 21:13:25.000000  2015-05-04 13:54:50.000000   \n",
       "4   221365  2015-07-21 07:09:52.000000  2015-09-09 18:40:53.000000   \n",
       "\n",
       "   purchase_value      device_id source browser sex  age    ip_address  class  \\\n",
       "0              34  QVPSPJUOCKZAR    SEO  Chrome   M   39  7.327584e+08      0   \n",
       "1              16  EOGFQPIZPYXFZ    Ads  Chrome   F   53  3.503114e+08      0   \n",
       "2              15  YSSKYOSJHPPLJ    SEO   Opera   M   53  2.621474e+09      1   \n",
       "3              44  ATGTXKYKUDUQN    SEO  Safari   M   41  3.840542e+09      0   \n",
       "4              39  NAUITBZFJKHWW    Ads  Safari   M   45  4.155831e+08      0   \n",
       "\n",
       "    time_difference  time_float  share_device   ip_address2  share_ip  \n",
       "0  4506682000000000   4506682.0             1  7.327584e+08         1  \n",
       "1    17944000000000     17944.0             1  3.503114e+08         1  \n",
       "2        1000000000         1.0            12  2.621474e+09        12  \n",
       "3   492085000000000    492085.0             1  3.840542e+09         1  \n",
       "4  4361461000000000   4361461.0             1  4.155831e+08         1  "
      ]
     },
     "execution_count": 8,
     "metadata": {},
     "output_type": "execute_result"
    }
   ],
   "source": [
    "share_ip=sol5.sort_values('count(user_id)',ascending=0)\n",
    "share_ip.rename(columns={'count(user_id)':'share_ip','ip_address':'ip_address2'},inplace=True)\n",
    "q=\"\"\"\n",
    "SELECT *  \n",
    "FROM sol13\n",
    "JOIN share_ip\n",
    "ON share_ip.ip_address2=sol13.ip_address\n",
    "\"\"\"\n",
    "sol15=pandasql.sqldf(q.lower(),locals())\n",
    "sol15.head()\n",
    "#sol15.describe()"
   ]
  },
  {
   "cell_type": "markdown",
   "metadata": {},
   "source": [
    "Deal with categorical data\n",
    "------------------------\n",
    "We first check number of categories in ['source','browser'].\n",
    "\n",
    "Then we deal with categorical data ['source','browser','sex'] using dummy variables. "
   ]
  },
  {
   "cell_type": "code",
   "execution_count": 9,
   "metadata": {
    "collapsed": false
   },
   "outputs": [
    {
     "data": {
      "text/html": [
       "<div>\n",
       "<table border=\"1\" class=\"dataframe\">\n",
       "  <thead>\n",
       "    <tr style=\"text-align: right;\">\n",
       "      <th></th>\n",
       "      <th>purchase_value</th>\n",
       "      <th>age</th>\n",
       "      <th>class</th>\n",
       "      <th>time_float</th>\n",
       "      <th>share_device</th>\n",
       "      <th>share_ip</th>\n",
       "      <th>sex_F</th>\n",
       "      <th>sex_M</th>\n",
       "      <th>source_Ads</th>\n",
       "      <th>source_Direct</th>\n",
       "      <th>source_SEO</th>\n",
       "      <th>browser_Chrome</th>\n",
       "      <th>browser_FireFox</th>\n",
       "      <th>browser_IE</th>\n",
       "      <th>browser_Opera</th>\n",
       "      <th>browser_Safari</th>\n",
       "    </tr>\n",
       "  </thead>\n",
       "  <tbody>\n",
       "    <tr>\n",
       "      <th>0</th>\n",
       "      <td>34</td>\n",
       "      <td>39</td>\n",
       "      <td>0</td>\n",
       "      <td>4506682.0</td>\n",
       "      <td>1</td>\n",
       "      <td>1</td>\n",
       "      <td>0.0</td>\n",
       "      <td>1.0</td>\n",
       "      <td>0.0</td>\n",
       "      <td>0.0</td>\n",
       "      <td>1.0</td>\n",
       "      <td>1.0</td>\n",
       "      <td>0.0</td>\n",
       "      <td>0.0</td>\n",
       "      <td>0.0</td>\n",
       "      <td>0.0</td>\n",
       "    </tr>\n",
       "    <tr>\n",
       "      <th>1</th>\n",
       "      <td>16</td>\n",
       "      <td>53</td>\n",
       "      <td>0</td>\n",
       "      <td>17944.0</td>\n",
       "      <td>1</td>\n",
       "      <td>1</td>\n",
       "      <td>1.0</td>\n",
       "      <td>0.0</td>\n",
       "      <td>1.0</td>\n",
       "      <td>0.0</td>\n",
       "      <td>0.0</td>\n",
       "      <td>1.0</td>\n",
       "      <td>0.0</td>\n",
       "      <td>0.0</td>\n",
       "      <td>0.0</td>\n",
       "      <td>0.0</td>\n",
       "    </tr>\n",
       "    <tr>\n",
       "      <th>2</th>\n",
       "      <td>15</td>\n",
       "      <td>53</td>\n",
       "      <td>1</td>\n",
       "      <td>1.0</td>\n",
       "      <td>12</td>\n",
       "      <td>12</td>\n",
       "      <td>0.0</td>\n",
       "      <td>1.0</td>\n",
       "      <td>0.0</td>\n",
       "      <td>0.0</td>\n",
       "      <td>1.0</td>\n",
       "      <td>0.0</td>\n",
       "      <td>0.0</td>\n",
       "      <td>0.0</td>\n",
       "      <td>1.0</td>\n",
       "      <td>0.0</td>\n",
       "    </tr>\n",
       "    <tr>\n",
       "      <th>3</th>\n",
       "      <td>44</td>\n",
       "      <td>41</td>\n",
       "      <td>0</td>\n",
       "      <td>492085.0</td>\n",
       "      <td>1</td>\n",
       "      <td>1</td>\n",
       "      <td>0.0</td>\n",
       "      <td>1.0</td>\n",
       "      <td>0.0</td>\n",
       "      <td>0.0</td>\n",
       "      <td>1.0</td>\n",
       "      <td>0.0</td>\n",
       "      <td>0.0</td>\n",
       "      <td>0.0</td>\n",
       "      <td>0.0</td>\n",
       "      <td>1.0</td>\n",
       "    </tr>\n",
       "    <tr>\n",
       "      <th>4</th>\n",
       "      <td>39</td>\n",
       "      <td>45</td>\n",
       "      <td>0</td>\n",
       "      <td>4361461.0</td>\n",
       "      <td>1</td>\n",
       "      <td>1</td>\n",
       "      <td>0.0</td>\n",
       "      <td>1.0</td>\n",
       "      <td>1.0</td>\n",
       "      <td>0.0</td>\n",
       "      <td>0.0</td>\n",
       "      <td>0.0</td>\n",
       "      <td>0.0</td>\n",
       "      <td>0.0</td>\n",
       "      <td>0.0</td>\n",
       "      <td>1.0</td>\n",
       "    </tr>\n",
       "  </tbody>\n",
       "</table>\n",
       "</div>"
      ],
      "text/plain": [
       "   purchase_value  age  class  time_float  share_device  share_ip  sex_F  \\\n",
       "0              34   39      0   4506682.0             1         1    0.0   \n",
       "1              16   53      0     17944.0             1         1    1.0   \n",
       "2              15   53      1         1.0            12        12    0.0   \n",
       "3              44   41      0    492085.0             1         1    0.0   \n",
       "4              39   45      0   4361461.0             1         1    0.0   \n",
       "\n",
       "   sex_M  source_Ads  source_Direct  source_SEO  browser_Chrome  \\\n",
       "0    1.0         0.0            0.0         1.0             1.0   \n",
       "1    0.0         1.0            0.0         0.0             1.0   \n",
       "2    1.0         0.0            0.0         1.0             0.0   \n",
       "3    1.0         0.0            0.0         1.0             0.0   \n",
       "4    1.0         1.0            0.0         0.0             0.0   \n",
       "\n",
       "   browser_FireFox  browser_IE  browser_Opera  browser_Safari  \n",
       "0              0.0         0.0            0.0             0.0  \n",
       "1              0.0         0.0            0.0             0.0  \n",
       "2              0.0         0.0            1.0             0.0  \n",
       "3              0.0         0.0            0.0             1.0  \n",
       "4              0.0         0.0            0.0             1.0  "
      ]
     },
     "execution_count": 9,
     "metadata": {},
     "output_type": "execute_result"
    }
   ],
   "source": [
    "dummies_sex=pd.get_dummies(sol15['sex'],prefix='sex')\n",
    "dummies_source=pd.get_dummies(sol15['source'],prefix='source')\n",
    "dummies_browser=pd.get_dummies(sol15['browser'],prefix='browser')\n",
    "\n",
    "sol9=pd.concat([sol15,dummies_sex,dummies_source,dummies_browser],axis=1)\n",
    "sol10=sol9.drop(['sex','source','browser','user_id','signup_time','purchase_time','device_id','ip_address','time_difference','ip_address2'],axis=1)\n",
    "sol10.head()"
   ]
  },
  {
   "cell_type": "markdown",
   "metadata": {},
   "source": [
    "Feature Selection\n",
    "----------------\n",
    "I will look at the correlation of each feature agains 'class'. \n",
    "Based on our data types, I will use the following algorithms:\n",
    "1. Phi correlation for nominal (class) vs. nominal (source,browser,sex) data \n",
    " http://scikit-learn.org/stable/modules/generated/sklearn.metrics.matthews_corrcoef.html\n",
    "2. Point-Biserial correlation for nominal (class) vs. quantitative data (purchase_value,age,time_diff)\n",
    "REF:   https://www.andrews.edu/~calkins/math/edrm611/edrm13.htm"
   ]
  },
  {
   "cell_type": "code",
   "execution_count": 10,
   "metadata": {
    "collapsed": false
   },
   "outputs": [
    {
     "name": "stderr",
     "output_type": "stream",
     "text": [
      "/Users/anw4/anaconda/lib/python2.7/site-packages/IPython/kernel/__main__.py:21: FutureWarning: sort(columns=....) is deprecated, use sort_values(by=.....)\n"
     ]
    },
    {
     "data": {
      "text/html": [
       "<div>\n",
       "<table border=\"1\" class=\"dataframe\">\n",
       "  <thead>\n",
       "    <tr style=\"text-align: right;\">\n",
       "      <th></th>\n",
       "      <th>abs_corr</th>\n",
       "      <th>correlation</th>\n",
       "    </tr>\n",
       "    <tr>\n",
       "      <th>parameter</th>\n",
       "      <th></th>\n",
       "      <th></th>\n",
       "    </tr>\n",
       "  </thead>\n",
       "  <tbody>\n",
       "    <tr>\n",
       "      <th>class</th>\n",
       "      <td>1.000000</td>\n",
       "      <td>1.000000</td>\n",
       "    </tr>\n",
       "    <tr>\n",
       "      <th>share_device</th>\n",
       "      <td>0.670837</td>\n",
       "      <td>0.670837</td>\n",
       "    </tr>\n",
       "    <tr>\n",
       "      <th>share_ip</th>\n",
       "      <td>0.658625</td>\n",
       "      <td>0.658625</td>\n",
       "    </tr>\n",
       "    <tr>\n",
       "      <th>time_float</th>\n",
       "      <td>0.257888</td>\n",
       "      <td>-0.257888</td>\n",
       "    </tr>\n",
       "    <tr>\n",
       "      <th>source_Direct</th>\n",
       "      <td>0.020285</td>\n",
       "      <td>0.020285</td>\n",
       "    </tr>\n",
       "    <tr>\n",
       "      <th>browser_Chrome</th>\n",
       "      <td>0.014620</td>\n",
       "      <td>0.014620</td>\n",
       "    </tr>\n",
       "    <tr>\n",
       "      <th>browser_IE</th>\n",
       "      <td>0.013363</td>\n",
       "      <td>-0.013363</td>\n",
       "    </tr>\n",
       "    <tr>\n",
       "      <th>source_SEO</th>\n",
       "      <td>0.012251</td>\n",
       "      <td>-0.012251</td>\n",
       "    </tr>\n",
       "    <tr>\n",
       "      <th>sex_M</th>\n",
       "      <td>0.007639</td>\n",
       "      <td>0.007639</td>\n",
       "    </tr>\n",
       "    <tr>\n",
       "      <th>sex_F</th>\n",
       "      <td>0.007639</td>\n",
       "      <td>-0.007639</td>\n",
       "    </tr>\n",
       "  </tbody>\n",
       "</table>\n",
       "</div>"
      ],
      "text/plain": [
       "                abs_corr  correlation\n",
       "parameter                            \n",
       "class           1.000000     1.000000\n",
       "share_device    0.670837     0.670837\n",
       "share_ip        0.658625     0.658625\n",
       "time_float      0.257888    -0.257888\n",
       "source_Direct   0.020285     0.020285\n",
       "browser_Chrome  0.014620     0.014620\n",
       "browser_IE      0.013363    -0.013363\n",
       "source_SEO      0.012251    -0.012251\n",
       "sex_M           0.007639     0.007639\n",
       "sex_F           0.007639    -0.007639"
      ]
     },
     "execution_count": 10,
     "metadata": {},
     "output_type": "execute_result"
    }
   ],
   "source": [
    "from scipy.stats import pointbiserialr\n",
    "from sklearn.metrics import matthews_corrcoef\n",
    "\n",
    "columns=sol10.columns.values\n",
    "param=[]\n",
    "correlation=[]\n",
    "abs_corr=[]\n",
    "for c in columns:\n",
    "    if len(sol10[c].unique())<=2:\n",
    "        corr=matthews_corrcoef(sol10['class'],sol10[c]) #phi coefficient\n",
    "    else:\n",
    "        corr=pointbiserialr(sol10['class'],sol10[c])[0]\n",
    "    param.append(c)\n",
    "    correlation.append(corr)\n",
    "    abs_corr.append(abs(corr))\n",
    "    \n",
    "    \n",
    "#Create dataframe for visualization\n",
    "param_df=pd.DataFrame({'correlation':correlation,'parameter':param,'abs_corr':abs_corr})\n",
    "#Sort by absolute correlation\n",
    "param_df=param_df.sort(['abs_corr'],ascending=False)\n",
    "#Set parameter name as index\n",
    "param_df=param_df.set_index('parameter')\n",
    "param_df.head(n=10)"
   ]
  },
  {
   "cell_type": "markdown",
   "metadata": {},
   "source": [
    "The absolute correlation coefficients of 'share_device','share_ip','time_float'are above 0.25. Therefore, these features are more important.\n",
    "\n",
    "Features visualization\n",
    "--------------------\n",
    "DrawScatter for quantitative features"
   ]
  },
  {
   "cell_type": "code",
   "execution_count": 11,
   "metadata": {
    "collapsed": false
   },
   "outputs": [
    {
     "name": "stderr",
     "output_type": "stream",
     "text": [
      "/Users/anw4/anaconda/lib/python2.7/site-packages/matplotlib/collections.py:590: FutureWarning: elementwise comparison failed; returning scalar instead, but in the future will perform elementwise comparison\n",
      "  if self._edgecolors == str('face'):\n"
     ]
    },
    {
     "data": {
      "image/png": "[encoded data removed]",
      "text/plain": [
       "<matplotlib.figure.Figure at 0x1153df110>"
      ]
     },
     "metadata": {},
     "output_type": "display_data"
    }
   ],
   "source": [
    "import matplotlib.pyplot as plt\n",
    "%matplotlib inline\n",
    "qfeatures=['class','share_device','time_float','share_ip','purchase_value','age'] \n",
    "nfeatures=['class','source_Direct','source_SEO','browser_FireFox','source_Ads','browser_Opera','browser_Safari','sex_F','sex_M','browser_IE','browser_Chrome']\n",
    "def DrawScatter(df,qfeatures):\n",
    "    n=len(df)\n",
    "    X=df[qfeatures[1]]\n",
    "    Y=df[qfeatures[2]]\n",
    "    fr_i=np.nonzero(df[qfeatures[0]])[0]\n",
    "    plt.scatter(X,Y,color='blue')\n",
    "    plt.scatter(X[fr_i],Y[fr_i],color='red') #if fraud, label red\n",
    "    \n",
    "    plt.xlabel(qfeatures[1])\n",
    "    plt.ylabel(qfeatures[2])\n",
    "    plt.show()\n",
    "    \n",
    "DrawScatter(sol10,qfeatures)\n"
   ]
  },
  {
   "cell_type": "markdown",
   "metadata": {},
   "source": [
    "Try Random Forest Classifier\n",
    "----------------------\n"
   ]
  },
  {
   "cell_type": "code",
   "execution_count": 18,
   "metadata": {
    "collapsed": true
   },
   "outputs": [],
   "source": [
    "labels=sol10['class'].copy(deep=True).astype(int).as_matrix()\n",
    "features=sol10.drop('class',axis=1).copy(deep=True).as_matrix() #try everything first\n",
    "from sklearn.cross_validation import train_test_split\n",
    "features_train,features_test,labels_train,labels_test=train_test_split(features,labels,test_size=0.5,random_state=0) "
   ]
  },
  {
   "cell_type": "markdown",
   "metadata": {},
   "source": [
    "**Plot ROC curve**"
   ]
  },
  {
   "cell_type": "code",
   "execution_count": 39,
   "metadata": {
    "collapsed": true
   },
   "outputs": [],
   "source": [
    "from sklearn.linear_model import LogisticRegression\n",
    "from sklearn.ensemble import RandomForestClassifier\n",
    "from sklearn.cross_validation import cross_val_score\n",
    "from sklearn import metrics \n",
    "lr_clf=LogisticRegression()\n",
    "rf_clf=RandomForestClassifier()\n",
    "\n",
    "lr_y_score=lr_clf.fit(features_train,labels_train).predict_proba(features_test)[:,1]\n",
    "rf_y_score=rf_clf.fit(features_train,labels_train).predict_proba(features_test)[:,1]"
   ]
  },
  {
   "cell_type": "code",
   "execution_count": 40,
   "metadata": {
    "collapsed": false
   },
   "outputs": [
    {
     "name": "stdout",
     "output_type": "stream",
     "text": [
      "[ 0.00807385  0.21868214  0.00792764  0.00396751  0.09102805  0.40484717\n",
      "  0.49999986  0.00717654  0.16753132  0.01880238]\n",
      "[ 0.   0.   0.2  0.5  0.   0.   1.   0.   0.1  0. ]\n"
     ]
    }
   ],
   "source": [
    "print lr_y_score[:10]\n",
    "print rf_y_score[:10]"
   ]
  },
  {
   "cell_type": "code",
   "execution_count": 41,
   "metadata": {
    "collapsed": false
   },
   "outputs": [],
   "source": [
    "#Compute ROC curve and ROC area for each class\n",
    "lr_fpr, lr_tpr, _ = metrics.roc_curve(labels_test, lr_y_score)\n",
    "lr_roc_auc = metrics.auc(lr_fpr, lr_tpr)\n",
    "rf_fpr,rf_tpr,_= metrics.roc_curve(labels_test, rf_y_score)\n",
    "rf_roc_auc = metrics.auc(rf_fpr, rf_tpr)"
   ]
  },
  {
   "cell_type": "code",
   "execution_count": 42,
   "metadata": {
    "collapsed": true
   },
   "outputs": [],
   "source": [
    "lr_pred=lr_clf.fit(features_train,labels_train).predict(features_test)\n",
    "lr_accuracy=lr_clf.score(features_test,labels_test)\n",
    "rf_pred=rf_clf.fit(features_train,labels_train).predict(features_test)\n",
    "rf_accuracy=rf_clf.score(features_test,labels_test)"
   ]
  },
  {
   "cell_type": "code",
   "execution_count": 43,
   "metadata": {
    "collapsed": false
   },
   "outputs": [
    {
     "name": "stdout",
     "output_type": "stream",
     "text": [
      "Precision of Logistic Regression: 0.0\n",
      "Recall of Logistic Regression: 0.0\n",
      "Precision of Random Forest: 0.922284644195\n",
      "Recall of Random Forest: 0.558390022676\n"
     ]
    }
   ],
   "source": [
    "lr_precision=metrics.precision_score(labels_test,lr_pred)\n",
    "lr_recall=metrics.recall_score(labels_test,lr_pred)\n",
    "print \"Precision of Logistic Regression:\",lr_precision\n",
    "print \"Recall of Logistic Regression:\",lr_recall\n",
    "rf_precision=metrics.precision_score(labels_test,rf_pred)\n",
    "rf_recall=metrics.recall_score(labels_test,rf_pred)\n",
    "print \"Precision of Random Forest:\",rf_precision\n",
    "print \"Recall of Random Forest:\",rf_recall"
   ]
  },
  {
   "cell_type": "code",
   "execution_count": 45,
   "metadata": {
    "collapsed": false
   },
   "outputs": [
    {
     "data": {
      "image/png": "[encoded data removed]",
      "text/plain": [
       "<matplotlib.figure.Figure at 0x11bdd4450>"
      ]
     },
     "metadata": {},
     "output_type": "display_data"
    }
   ],
   "source": [
    "# Plot of a ROC curve for a specific class\n",
    "plt.figure()\n",
    "plt.plot(rf_fpr, rf_tpr, label='ROC curve (area = %0.2f)' % rf_roc_auc)\n",
    "plt.plot([0, 1], [0, 1], 'k--')\n",
    "plt.xlim([0.0, 1.0])\n",
    "plt.ylim([0.0, 1.05])\n",
    "plt.xlabel('False Positive Rate')\n",
    "plt.ylabel('True Positive Rate')\n",
    "plt.title('ROC curve: Random Forest')\n",
    "plt.legend(loc=\"lower right\")\n",
    "plt.show()\n"
   ]
  },
  {
   "cell_type": "code",
   "execution_count": null,
   "metadata": {
    "collapsed": true
   },
   "outputs": [],
   "source": []
  }
 ],
 "metadata": {
  "kernelspec": {
   "display_name": "Python 2",
   "language": "python",
   "name": "python2"
  },
  "language_info": {
   "codemirror_mode": {
    "name": "ipython",
    "version": 2
   },
   "file_extension": ".py",
   "mimetype": "text/x-python",
   "name": "python",
   "nbconvert_exporter": "python",
   "pygments_lexer": "ipython2",
   "version": "2.7.12"
  }
 },
 "nbformat": 4,
 "nbformat_minor": 0
}
