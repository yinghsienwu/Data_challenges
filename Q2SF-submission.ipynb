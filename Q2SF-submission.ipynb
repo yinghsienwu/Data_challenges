{
 "cells": [
  {
   "cell_type": "code",
   "execution_count": 1,
   "metadata": {
    "collapsed": false
   },
   "outputs": [],
   "source": [
    "import pandas\n",
    "import pandasql\n",
    "import numpy as np\n",
    "\n",
    "df=pandas.read_csv('Historic_Secured_Property_Tax_Rolls.csv', low_memory=False) \n",
    "#replace header space by _ \n",
    "df.rename(columns = lambda x: x.replace(' ', '_').lower(), inplace=True)\n"
   ]
  },
  {
   "cell_type": "code",
   "execution_count": 2,
   "metadata": {
    "collapsed": false
   },
   "outputs": [
    {
     "name": "stdout",
     "output_type": "stream",
     "text": [
      "Fraction of most common class: 0.4707253227\n"
     ]
    }
   ],
   "source": [
    "#q1: What fraction of assessments are for properties of the most common class? \n",
    "#For now, consider all the assessments, even though some properties may be listed more than once.\n",
    "total_count=len(df['property_class_code'])\n",
    "top_class_count=df['property_class_code'].value_counts()[0]\n",
    "most_common_class_fraction=float(top_class_count)/float(total_count)\n",
    "print \"Fraction of most common class: %.10f\" %most_common_class_fraction"
   ]
  },
  {
   "cell_type": "code",
   "execution_count": 3,
   "metadata": {
    "collapsed": false
   },
   "outputs": [
    {
     "name": "stdout",
     "output_type": "stream",
     "text": [
      "Median assessed improvement value 208500.0000000000\n"
     ]
    }
   ],
   "source": [
    "#q2:What is the median assessed improvement value, considering only non-zero assessments? \n",
    "#Consider only the latest assessment value for each property, which is uniquely identified by \n",
    "#the \"Block and Lot Number\" column.\n",
    "q=\"\"\"\n",
    "SELECT block_and_lot_number,max(closed_roll_fiscal_year),closed_roll_assessed_improvement_value\n",
    "FROM df\n",
    "WHERE closed_roll_assessed_improvement_value>0\n",
    "GROUP BY block_and_lot_number\n",
    "HAVING count(block_and_lot_number)>1;\n",
    "\"\"\"\n",
    "sol=pandasql.sqldf(q.lower(), locals())\n",
    "median_improvement_value=sol['closed_roll_assessed_improvement_value'].median()\n",
    "print \"Median assessed improvement value %.10f\" % median_improvement_value"
   ]
  },
  {
   "cell_type": "code",
   "execution_count": 7,
   "metadata": {
    "collapsed": false
   },
   "outputs": [],
   "source": [
    "#create a non-duplicate df, take the latest assessed year\n",
    "q=\"\"\"\n",
    "SELECT block_and_lot_number,max(closed_roll_fiscal_year),neighborhood_code,closed_roll_assessed_improvement_value,closed_roll_assessed_land_value,zipcode_of_parcel,property_area_in_square_feet,lot_area,number_of_rooms,number_of_units,year_property_built,location,property_location\n",
    "FROM df\n",
    "GROUP BY block_and_lot_number\n",
    "HAVING count(block_and_lot_number)>1\n",
    "\"\"\"\n",
    "df2=pandasql.sqldf(q.lower(),locals())\n",
    "df2=df2.rename(columns = {'max(closed_roll_fiscal_year)':'latest_closed_roll_fiscal_year'})\n"
   ]
  },
  {
   "cell_type": "code",
   "execution_count": 9,
   "metadata": {
    "collapsed": false
   },
   "outputs": [
    {
     "name": "stdout",
     "output_type": "stream",
     "text": [
      "Difference between the greatest and least average values: 15681710.3048042636\n"
     ]
    }
   ],
   "source": [
    "#q3:Calculate the average improvement value (using only non-zero assessments) in each neighborhood. \n",
    "#What is the difference between the greatest and least average values?\n",
    "q=\"\"\"\n",
    "SELECT neighborhood_code,AVG(closed_roll_assessed_improvement_value)\n",
    "FROM df2\n",
    "WHERE closed_roll_assessed_improvement_value>0\n",
    "GROUP BY neighborhood_code;\n",
    "\"\"\"\n",
    "\n",
    "sol2=pandasql.sqldf(q.lower(), locals())\n",
    "\n",
    "mx2=max(sol2['avg(closed_roll_assessed_improvement_value)'])\n",
    "mn2=min(sol2['avg(closed_roll_assessed_improvement_value)'])\n",
    "diff2=(mx2-mn2)\n",
    "print \"Difference between the greatest and least average values: %.10f\" % diff2"
   ]
  },
  {
   "cell_type": "code",
   "execution_count": 16,
   "metadata": {
    "collapsed": false
   },
   "outputs": [
    {
     "name": "stdout",
     "output_type": "stream",
     "text": [
      "Growth rate (/yr): 1.0427696058\n"
     ]
    }
   ],
   "source": [
    "#q4: What is the yearly growth rate of Land Values over the years covered by this data? \n",
    "#Take a simplistic model: the value is given by the exponential growth P=Po*exp(r*t), where t is measured in years. \n",
    "#(A more complete model would give each property its own base price Po. \n",
    "#Estimate r over all assessments with a non-zero land value. (Hint: Consider using linear regression and logarithms.)\n",
    "\n",
    "q=\"\"\"\n",
    "SELECT block_and_lot_number,closed_roll_fiscal_year,closed_roll_assessed_land_value\n",
    "FROM df\n",
    "WHERE closed_roll_assessed_land_value>0;\n",
    "\"\"\"\n",
    "\n",
    "sol3=pandasql.sqldf(q.lower(), locals())\n",
    "\n",
    "from sklearn import linear_model\n",
    "\n",
    "x=sol3['closed_roll_fiscal_year']\n",
    "y=sol3['closed_roll_assessed_land_value']\n",
    "#make array\n",
    "x_temp=x.values\n",
    "x_array=x_temp.reshape((len(x_temp),1))\n",
    "y_temp=y.values\n",
    "y_array=np.log(y_temp)\n",
    "regr = linear_model.LinearRegression()\n",
    "regr.fit(x_array, y_array)\n",
    "#print 'Coefficients: \\t', regr.coef_ \n",
    "growth_rate=np.exp(regr.coef_)\n",
    "print 'Growth rate (/yr): %.10f' %growth_rate"
   ]
  },
  {
   "cell_type": "code",
   "execution_count": 103,
   "metadata": {
    "collapsed": false
   },
   "outputs": [
    {
     "name": "stdout",
     "output_type": "stream",
     "text": [
      "Largest neighborhood area: 3.3131880752(km^2)\n"
     ]
    }
   ],
   "source": [
    "#q5: We can use the property locations to estimate the areas of the neighborhoods. \n",
    "#Represent each as an ellipse with semi-axes given by a single standard deviation of the longitude and latitude. \n",
    "#What is the area, in square kilometers, of the largest neighborhood measured in this manner? \n",
    "#Be sure to filter out invalid coordinates.\n",
    "\n",
    "#add two columns: longitude and latitude\n",
    "loc=df2['location']\n",
    "coord=loc.str[1:-1].str.split(', ')\n",
    "df2['longitude']=coord.str[1]\n",
    "df2['latitude']=coord.str[0]\n",
    "\n",
    "#get average longitude and latitude in each neighborhood\n",
    "q=\"\"\"\n",
    "SELECT neighborhood_code,AVG(longitude),AVG(latitude)\n",
    "FROM df2\n",
    "WHERE longitude IS NOT NULL AND latitude IS NOT NULL \n",
    "GROUP BY neighborhood_code;\n",
    "\"\"\"\n",
    "sol10=pandasql.sqldf(q.lower(),locals())\n",
    "sol10=sol10.rename(columns = {'avg(longitude)':'avg_longitude'})\n",
    "sol10=sol10.rename(columns={'avg(latitude)':'avg_latitude'})\n",
    "#join two dataframes\n",
    "q=\"\"\"\n",
    "SELECT df2.neighborhood_code,df2.longitude,df2.latitude,sol10.avg_longitude,sol10.avg_latitude\n",
    "FROM sol10 join df2 \n",
    "ON sol10.neighborhood_code=df2.neighborhood_code\n",
    "WHERE longitude IS NOT NULL AND latitude IS NOT NULL; \n",
    "\"\"\"\n",
    "sol11=pandasql.sqldf(q.lower(),locals())\n",
    "#calculate residual squares of longitude and latitude\n",
    "q=\"\"\"\n",
    "SELECT neighborhood_code,(longitude-avg_longitude)*(longitude-avg_longitude),(latitude-avg_latitude)*(latitude-avg_latitude)\n",
    "FROM sol11;\n",
    "\"\"\"\n",
    "sol12=pandasql.sqldf(q.lower(),locals())\n",
    "sol12=sol12.rename(columns={'(longitude-avg_longitude)*(longitude-avg_longitude)':'res_longitude'})\n",
    "sol12=sol12.rename(columns={'(latitude-avg_latitude)*(latitude-avg_latitude)':'res_latitude'})\n",
    "#calculate variance of each neighborhood\n",
    "q=\"\"\"\n",
    "SELECT neighborhood_code,SUM(res_longitude)/(COUNT(res_longitude)-1),SUM(res_latitude)/(COUNT(res_latitude)-1)\n",
    "FROM sol12\n",
    "GROUP BY neighborhood_code;\n",
    "\"\"\"\n",
    "sol13=pandasql.sqldf(q.lower(),locals())\n",
    "sol13=sol13.rename(columns={'sum(res_longitude)/(count(res_longitude)-1)':'var_longitude'})\n",
    "sol13=sol13.rename(columns={'sum(res_latitude)/(count(res_latitude)-1)':'var_latitude'})\n",
    "#1 degree latitude=111 km. 1 degree longitude=85 km near 40 degree.\n",
    "import math\n",
    "max_lon=max(sol13['var_longitude'])\n",
    "max_lat=max(sol13['var_latitude'])\n",
    "lon_km=np.sqrt(max_lon)*85.\n",
    "lat_km=np.sqrt(max_lat)*111.\n",
    "max_neighborhood_area=math.pi*lon_km*lat_km\n",
    "print \"Largest neighborhood area: %.10f\" %max_neighborhood_area +'(km^2)'"
   ]
  },
  {
   "cell_type": "code",
   "execution_count": 113,
   "metadata": {
    "collapsed": false
   },
   "outputs": [
    {
     "name": "stdout",
     "output_type": "stream",
     "text": [
      "Difference of average units after and before 1950: 0.5356193402\n"
     ]
    }
   ],
   "source": [
    "#q6: What is the difference between the average number of units in buildings build in or after 1950, \n",
    "#and that for buildings built before 1950? Consider only buildings that have non-zero units reported, \n",
    "#and ignore buildings with obviously incorrect years. \n",
    "#To try to avoid the effect of improvements to buildings, use the earliest record for each property, not the latest.\n",
    "\n",
    "#build in or after 1950 \n",
    "q1=\"\"\"\n",
    "SELECT block_and_lot_number,MIN(closed_roll_fiscal_year),year_property_built, number_of_units\n",
    "FROM df\n",
    "WHERE number_of_units>0 \n",
    "GROUP BY block_and_lot_number\n",
    "HAVING COUNT(block_and_lot_number)>1;\n",
    "\"\"\"\n",
    "sol9=pandasql.sqldf(q1.lower(), locals())\n",
    "sol9=sol9.rename(columns = {'min(closed_roll_fiscal_year)':'earliest_closed_roll_fiscal_year'})\n",
    "q2=\"\"\"\n",
    "SELECT block_and_lot_number,year_property_built, number_of_units\n",
    "FROM sol9\n",
    "WHERE year_property_built>=1950 AND year_property_built<2016;\n",
    "\"\"\"\n",
    "after=pandasql.sqldf(q2.lower(), locals())\n",
    "\n",
    "q3=\"\"\"\n",
    "SELECT block_and_lot_number,year_property_built, number_of_units\n",
    "FROM sol9\n",
    "WHERE year_property_built<1950 AND year_property_built>1700;\n",
    "\"\"\"\n",
    "before=pandasql.sqldf(q3.lower(),locals())\n",
    "AvgUnitBf50=float(sum(before['number_of_units']))/float(len(before))\n",
    "AvgUnitAf50=float(sum(after['number_of_units']))/float(len(after))\n",
    "\n",
    "print \"Difference of average units after and before 1950: %.10f\"%(AvgUnitAf50-AvgUnitBf50)"
   ]
  },
  {
   "cell_type": "code",
   "execution_count": 114,
   "metadata": {
    "collapsed": false
   },
   "outputs": [
    {
     "name": "stdout",
     "output_type": "stream",
     "text": [
      "Max ratio of rooms to units: 24.2869198312\n"
     ]
    }
   ],
   "source": [
    "#q7: Considering only properties with non-zero numbers of bedrooms and units, \n",
    "#calculate the average number of bedrooms per unit in each zip code. \n",
    "#Use the ratio of the means instead of the mean of the ratio. \n",
    "#What is this ratio in the zip code where it achieves its maximum?\n",
    "q=\"\"\"\n",
    "SELECT zipcode_of_parcel,AVG(number_of_rooms),AVG(number_of_units)\n",
    "FROM df2\n",
    "WHERE number_of_rooms>0 AND number_of_units>0\n",
    "GROUP BY zipcode_of_parcel;\n",
    "\"\"\"\n",
    "\n",
    "sol7=pandasql.sqldf(q.lower(), locals())\n",
    "sol7['ratio']=sol7['avg(number_of_rooms)']/sol7['avg(number_of_units)']\n",
    "\n",
    "print \"Max ratio of rooms to units: %.10f\" %max(sol7['ratio'])"
   ]
  },
  {
   "cell_type": "code",
   "execution_count": 116,
   "metadata": {
    "collapsed": false
   },
   "outputs": [
    {
     "name": "stdout",
     "output_type": "stream",
     "text": [
      "Max build_up for all zipcodes: 13.5872646159\n"
     ]
    }
   ],
   "source": [
    "#q8: Estimate how built-up each zip code is by comparing the total property area to the total lot area. \n",
    "#What is the largest ratio of property area to surface area of all zip codes?\n",
    "\n",
    "q=\"\"\"\n",
    "SELECT zipcode_of_parcel, SUM(property_area_in_square_feet),SUM(lot_area)\n",
    "FROM df2\n",
    "WHERE property_area_in_square_feet>0 AND lot_area>0\n",
    "GROUP BY zipcode_of_parcel;\n",
    "\"\"\"\n",
    "\n",
    "sol5=pandasql.sqldf(q.lower(), locals())\n",
    "sol5['build_up']=sol5['sum(property_area_in_square_feet)']/sol5['sum(lot_area)']\n",
    "\n",
    "print 'Max build_up for all zipcodes: %.10f'% max(sol5['build_up'])\n"
   ]
  },
  {
   "cell_type": "code",
   "execution_count": null,
   "metadata": {
    "collapsed": true
   },
   "outputs": [],
   "source": []
  }
 ],
 "metadata": {
  "kernelspec": {
   "display_name": "Python 2",
   "language": "python",
   "name": "python2"
  },
  "language_info": {
   "codemirror_mode": {
    "name": "ipython",
    "version": 2
   },
   "file_extension": ".py",
   "mimetype": "text/x-python",
   "name": "python",
   "nbconvert_exporter": "python",
   "pygments_lexer": "ipython2",
   "version": "2.7.12"
  }
 },
 "nbformat": 4,
 "nbformat_minor": 0
}
